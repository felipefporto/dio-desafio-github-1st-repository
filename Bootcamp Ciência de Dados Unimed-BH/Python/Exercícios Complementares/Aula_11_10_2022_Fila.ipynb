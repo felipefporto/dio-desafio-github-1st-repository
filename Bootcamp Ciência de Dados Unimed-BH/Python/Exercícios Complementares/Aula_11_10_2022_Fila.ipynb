{
  "nbformat": 4,
  "nbformat_minor": 0,
  "metadata": {
    "colab": {
      "provenance": []
    },
    "kernelspec": {
      "name": "python3",
      "display_name": "Python 3"
    },
    "language_info": {
      "name": "python"
    }
  },
  "cells": [
    {
      "cell_type": "markdown",
      "source": [
        "# **Aula 11-10-2022**\n",
        "## Fila\n",
        "### Analise o código abaixo de forma detalhada"
      ],
      "metadata": {
        "id": "nQuZ3eN_qyUB"
      }
    },
    {
      "cell_type": "code",
      "execution_count": 1,
      "metadata": {
        "id": "DVqswGSZqt3W"
      },
      "outputs": [],
      "source": [
        "# Cria a Classe Fila\n",
        "class Queue:\n",
        "\n",
        "    # Define método construtor\n",
        "    def __init__(self):\n",
        "        # Cria uma fila vazia\n",
        "        self.queue = []\n",
        "        # Determina o tamanho da fila através de um contador\n",
        "        self.len_queue = 0\n",
        "\n",
        "    # Define método push recebendo um valor e\n",
        "    def push(self, e):\n",
        "        # Adiciona o valor recebido ao final da fila\n",
        "        self.queue.append(e)\n",
        "        # Soma 1 no contador\n",
        "        self.len_queue += 1\n",
        "\n",
        "    # Define método pop\n",
        "    def pop(self):\n",
        "        # Usa a lógica IF NOT com o método empty()\n",
        "        # Recebe o retorno de empyt() e aplica a lógica NOT\n",
        "        if not self.empty():\n",
        "            # Se len_queue tiver retorno False com o NOT vira True então executa o IF\n",
        "            # Remove com o método pop o item de index 0\n",
        "            self.queue.pop(0)\n",
        "            # Subtrai 1 do contador\n",
        "            self.len_queue -= 1\n",
        "\n",
        "    def empty(self):\n",
        "        # Se o len_queue for igual a zero retorna True\n",
        "        if self.len_queue == 0:\n",
        "            return True\n",
        "        # Se o len_queue for diferente de zero retorna False\n",
        "        return False\n",
        "\n",
        "    # Define método length\n",
        "    def length(self):\n",
        "        # Retorna o tamanho da Fila\n",
        "        return self.len_queue\n",
        "\n",
        "    # Define o método front\n",
        "    def front(self):\n",
        "        # Recebe o retorno de empyt() e aplica a lógica NOT\n",
        "        if not self.empty():\n",
        "            # Se a Fila len_queue for diferente de zero executa o IF\n",
        "            # Chama o valor da Fila no Index 0\n",
        "            return self.queue[0]\n",
        "        # Retorna None\n",
        "        return None\n"
      ]
    },
    {
      "cell_type": "code",
      "source": [
        "# Cria uma Instância q\n",
        "q = Queue()"
      ],
      "metadata": {
        "id": "Cjux5p2grdeI"
      },
      "execution_count": 2,
      "outputs": []
    },
    {
      "cell_type": "code",
      "source": [
        "# Chama método push() com os valores atribuidos a ele\n",
        "q.push(1)\n",
        "q.push(2)\n",
        "q.push(3)"
      ],
      "metadata": {
        "id": "bcjTcBderjs3"
      },
      "execution_count": 3,
      "outputs": []
    },
    {
      "cell_type": "code",
      "source": [
        "# Mostra na tela o resultado do método front() para Instância q\n",
        "print(q.front())"
      ],
      "metadata": {
        "colab": {
          "base_uri": "https://localhost:8080/",
          "height": 0
        },
        "id": "QtlcBFPrrnJG",
        "outputId": "80cb27fa-356d-40c2-a3d0-466fb87ddc94"
      },
      "execution_count": 4,
      "outputs": [
        {
          "output_type": "stream",
          "name": "stdout",
          "text": [
            "1\n"
          ]
        }
      ]
    },
    {
      "cell_type": "code",
      "source": [
        "# Mostra na tela o resultado do método lenght() para Instância q\n",
        "print(q.length())"
      ],
      "metadata": {
        "colab": {
          "base_uri": "https://localhost:8080/",
          "height": 0
        },
        "id": "rMGBM1pdrptd",
        "outputId": "9a09d653-c3a5-4e90-ce68-0bb0cea94a43"
      },
      "execution_count": 5,
      "outputs": [
        {
          "output_type": "stream",
          "name": "stdout",
          "text": [
            "3\n"
          ]
        }
      ]
    }
  ]
}