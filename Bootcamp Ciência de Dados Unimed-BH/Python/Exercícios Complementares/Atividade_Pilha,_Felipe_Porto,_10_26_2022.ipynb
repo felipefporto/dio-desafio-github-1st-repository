{
  "nbformat": 4,
  "nbformat_minor": 0,
  "metadata": {
    "colab": {
      "provenance": []
    },
    "kernelspec": {
      "name": "python3",
      "display_name": "Python 3"
    }
  },
  "cells": [
    {
      "cell_type": "markdown",
      "metadata": {
        "id": "3L3hMZxPloS9"
      },
      "source": [
        "# **Pilha**: Atividade da Aula 10/26/2022\n",
        "\n",
        "```\n",
        "# Isto está formatado como código\n",
        "```\n",
        "\n"
      ]
    },
    {
      "cell_type": "markdown",
      "source": [
        "# **Pilha**: Conceito\n",
        "\n",
        "  Uma pilha (Stack) é uma coleção ordenada de itens onde a inserção de novos itens e a remoção de itens existentes sempre ocorrem na mesma extremidade superior, o seja, o topo. A extremidade inferior ao topo é conhecida como base.\n",
        "\n",
        "A Pilha respeira um princípio de ordenação chamado **LIFO** (last in first out), onde:\n",
        "  - Os itens armazenados na pilha que estão mais perto da base são aqueles que estão na pilha a mais tempo. \n",
        "  - O último item inserido é aquele que está na posição em que pode ser removido primeiro. \n",
        "  - Último a entrar primeiro a sair . \n",
        "  \n",
        "  Os itens estão armazenados de acordo com o tempo de permanência na estrutura. Itens recentemente inseridos na estrutura estão mais próximos do topo, enquanto os itens mais antigos na estrutura estão perto da base.\n",
        "\n"
      ],
      "metadata": {
        "id": "oqnoi2kEwfEq"
      }
    },
    {
      "cell_type": "code",
      "metadata": {
        "id": "7R1oTn1dqV1l"
      },
      "source": [
        "import numpy as np"
      ],
      "execution_count": 126,
      "outputs": []
    },
    {
      "cell_type": "code",
      "metadata": {
        "id": "uTsNap9FqYXN"
      },
      "source": [
        "#Criação da classe Pilha\n",
        "class Pilha:\n",
        "\n",
        "  def __init__(self, capacidade):                            # É uma boa prática sempre definir a inicialização utilizando um construtor\n",
        "    self.__capacidade = capacidade                           # Define tamanho máximo da pilha\n",
        "    self.__topo = -1                                         # Define valor inicial de __topo como -1\n",
        "    self.__valores = np.empty(self.__capacidade, dtype=int)  # Usa função empty() da biblioteca numpy para criar vetor\n",
        "\n",
        "  \n",
        "  def __pilha_cheia(self):                                   # Para método pilha_cheia\n",
        "    if self.__topo == self.__capacidade - 1:                 # Se o topo da pilha for igual a (capacidade - 1) retorna Verdadeiro\n",
        "      return True                                            # retorna falso se pilha for diferente do resultado de: __capacidade - 1\n",
        "    else:\n",
        "      return False\n",
        "\n",
        "  def __pilha_vazia(self):                                   # Método pilha vazia \n",
        "    if self.__topo == -1:                                    # Se o topo for igual a -1 retorna Verdadeiro para pilha vazia\n",
        "      return True\n",
        "    else:                                                    # Se não falso\n",
        "      return False\n",
        "\n",
        "  def empilhar(self, valor):                                 # Método empilhar\n",
        "    if self.__pilha_cheia():                                 # Se self.__pilha_cheia() for Verdadeiro exibirá o print pilha cheia\n",
        "      print('A pilha está cheia')                            \n",
        "    else:                                                    # Se não,\n",
        "      self.__topo += 1                                       # Atribui +1 ao valor na memória de topo\n",
        "      self.__valores[self.__topo] = valor                    # Atualiza valores usando o Index de __topo com o novo valor\n",
        "\n",
        "  def desempilhar(self):                                     # Método desempilhar\n",
        "    if self.__pilha_vazia():                                 # Se __pilha_vazia() for Verdadeiro\n",
        "      print('A pilha está vazia')                            # Print Pilha Vazia\n",
        "    else:                                                    # Se não,\n",
        "      self.__topo -= 1                                       # Subtrai 1 do valor de topo e atualiza ele\n",
        "\n",
        "  def ver_topo(self):                                        # Método ver-topo\n",
        "    if self.__topo != -1:                                    # Se a pilha não estiver vazia\n",
        "      return self.__valores[self.__topo]                     # Retorna o valor armazenado em valores usando o Index __topo\n",
        "    else:                                                    # Se não\n",
        "      return -1                                              # Retorna -1"
      ],
      "execution_count": 127,
      "outputs": []
    },
    {
      "cell_type": "code",
      "metadata": {
        "id": "QtWvabeOq-0U"
      },
      "source": [
        "# Criação da Instância pilha já passando o valor da capacidade, \"tamanho máximo\", igual a 5\n",
        "# Define self.__topo = -1\n",
        "pilha = Pilha(5)"
      ],
      "execution_count": 128,
      "outputs": []
    },
    {
      "cell_type": "code",
      "metadata": {
        "id": "MNlDMfOHrCRL",
        "colab": {
          "base_uri": "https://localhost:8080/"
        },
        "outputId": "8abe36ac-0cfa-45d5-9a0e-c55340e0fac5"
      },
      "source": [
        "# Chama método, a saída é -1, então a lista está vazia\n",
        "pilha.ver_topo()"
      ],
      "execution_count": 129,
      "outputs": [
        {
          "output_type": "execute_result",
          "data": {
            "text/plain": [
              "-1"
            ]
          },
          "metadata": {},
          "execution_count": 129
        }
      ]
    },
    {
      "cell_type": "code",
      "metadata": {
        "id": "LPneWEkaspzr",
        "colab": {
          "base_uri": "https://localhost:8080/"
        },
        "outputId": "d97c0270-7725-43b0-e5cd-6fa6f2387d68"
      },
      "source": [
        "# Chama método empilhar colocando 1 elemento na pilha \n",
        "pilha.empilhar(1)\n",
        "# Chama método ver topo, como a mesma não está vazia então retorna o valor de empilhar\n",
        "pilha.ver_topo()"
      ],
      "execution_count": 130,
      "outputs": [
        {
          "output_type": "execute_result",
          "data": {
            "text/plain": [
              "1"
            ]
          },
          "metadata": {},
          "execution_count": 130
        }
      ]
    },
    {
      "cell_type": "code",
      "metadata": {
        "id": "DESk3CzKs3Jr"
      },
      "source": [
        "# Realiza o carregamento da pilha com mais elementos\n",
        "pilha.empilhar(1)\n",
        "pilha.empilhar(2)\n",
        "pilha.empilhar(3)\n",
        "pilha.empilhar(4)"
      ],
      "execution_count": 131,
      "outputs": []
    },
    {
      "cell_type": "code",
      "metadata": {
        "id": "ggPHGUVqs6oi",
        "colab": {
          "base_uri": "https://localhost:8080/"
        },
        "outputId": "06339cb7-97c9-4d9f-943c-3a9ed87712f4"
      },
      "source": [
        "# Método empilhar retorna valor Verdadeiro para self.__pilha_cheia() mosntrando que atingiu o valor máximo possível e retorna que a pilha está cheia\n",
        "pilha.empilhar(6)"
      ],
      "execution_count": 132,
      "outputs": [
        {
          "output_type": "stream",
          "name": "stdout",
          "text": [
            "A pilha está cheia\n"
          ]
        }
      ]
    },
    {
      "cell_type": "code",
      "metadata": {
        "id": "RhoPtGMOs_XH",
        "colab": {
          "base_uri": "https://localhost:8080/"
        },
        "outputId": "5475e5b9-6cf0-47e5-d4e6-bedcab2189e1"
      },
      "source": [
        "# Chama método ver topo como o valor retorna True para self.__topo != -1 retorna self.__valores usando como Index [self.__topo]\n",
        "pilha.ver_topo()"
      ],
      "execution_count": 133,
      "outputs": [
        {
          "output_type": "execute_result",
          "data": {
            "text/plain": [
              "4"
            ]
          },
          "metadata": {},
          "execution_count": 133
        }
      ]
    },
    {
      "cell_type": "code",
      "metadata": {
        "id": "5HWGcf7BtE8G"
      },
      "source": [
        "# Chama Método Desempilhar\n",
        "pilha.desempilhar()"
      ],
      "execution_count": 134,
      "outputs": []
    },
    {
      "cell_type": "code",
      "metadata": {
        "id": "wfmWii0UtHPG",
        "colab": {
          "base_uri": "https://localhost:8080/"
        },
        "outputId": "d56d405e-27f2-4279-edbf-dd0876f77043"
      },
      "source": [
        "# Chama método ver_topo\n",
        "pilha.ver_topo()"
      ],
      "execution_count": 135,
      "outputs": [
        {
          "output_type": "execute_result",
          "data": {
            "text/plain": [
              "3"
            ]
          },
          "metadata": {},
          "execution_count": 135
        }
      ]
    },
    {
      "cell_type": "code",
      "metadata": {
        "id": "2UKSXChKtMbj"
      },
      "source": [
        "#Chama mais métodos desempilhar\n",
        "pilha.desempilhar()\n",
        "pilha.desempilhar()\n",
        "pilha.desempilhar()"
      ],
      "execution_count": 136,
      "outputs": []
    },
    {
      "cell_type": "code",
      "metadata": {
        "id": "Vmi31QQUtTJO",
        "colab": {
          "base_uri": "https://localhost:8080/"
        },
        "outputId": "3b40ba8a-41eb-412d-b483-73297133d7af"
      },
      "source": [
        "# Chama Método ver_topo\n",
        "pilha.ver_topo()"
      ],
      "execution_count": 137,
      "outputs": [
        {
          "output_type": "execute_result",
          "data": {
            "text/plain": [
              "1"
            ]
          },
          "metadata": {},
          "execution_count": 137
        }
      ]
    },
    {
      "cell_type": "code",
      "metadata": {
        "id": "fTia1ivdtei2"
      },
      "source": [
        "# Chama Método desempilhar retornando no if else False retornando assim -1 pela lógica do else\n",
        "pilha.desempilhar()"
      ],
      "execution_count": 138,
      "outputs": []
    },
    {
      "cell_type": "code",
      "source": [
        "pilha.ver_topo()"
      ],
      "metadata": {
        "colab": {
          "base_uri": "https://localhost:8080/"
        },
        "id": "nOFWpf5t6iZP",
        "outputId": "8a7aae22-83cb-4c70-e2a0-8483240a7f08"
      },
      "execution_count": 139,
      "outputs": [
        {
          "output_type": "execute_result",
          "data": {
            "text/plain": [
              "-1"
            ]
          },
          "metadata": {},
          "execution_count": 139
        }
      ]
    }
  ]
}