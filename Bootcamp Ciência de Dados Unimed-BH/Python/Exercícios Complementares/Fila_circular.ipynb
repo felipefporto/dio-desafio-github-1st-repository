{
  "nbformat": 4,
  "nbformat_minor": 0,
  "metadata": {
    "colab": {
      "provenance": [],
      "collapsed_sections": []
    },
    "kernelspec": {
      "name": "python3",
      "display_name": "Python 3"
    }
  },
  "cells": [
    {
      "cell_type": "markdown",
      "metadata": {
        "id": "3L3hMZxPloS9"
      },
      "source": [
        "# Fila circular"
      ]
    },
    {
      "cell_type": "code",
      "metadata": {
        "id": "2IUgpxk2pQW1"
      },
      "source": [
        "# Importando Biblioteca Numpy com apelido np\n",
        "import numpy as np"
      ],
      "execution_count": 107,
      "outputs": []
    },
    {
      "cell_type": "code",
      "metadata": {
        "id": "If-o0mg7HVWQ"
      },
      "source": [
        "# Criando classe Fila Circular\n",
        "class FilaCircular:\n",
        "  \n",
        "  def __init__(self, capacidade):                         # Definindo método construtor que recebe o valor capacidade\n",
        "    self.capacidade = capacidade                          # define capacidade com o valor recebido na criação da Instância\n",
        "    self.inicio = 0                                       # Define index do Início da Fila\n",
        "    self.final = -1                                       # Define index final da Fila\n",
        "    self.numero_elementos = 0                             # Define valor padrão de número de elementos da fila como zero\n",
        "    self.valores = np.empty(self.capacidade, dtype=int)   # Define valores como método empty recebendo self.capacidade e determinando como tipo de arquivo INT\n",
        "\n",
        "  def __fila_vazia(self):                                 # Define Método Privado fila Vazia\n",
        "    return self.numero_elementos == 0                     # Retorna valor lógico para número de elementos == 0\n",
        "\n",
        "  def __fila_cheia(self):                                 # Define Método Privado Fila Cheia\n",
        "    return self.numero_elementos == self.capacidade       # Retorna valor lógico para numero elementos == capacidade\n",
        "\n",
        "  def enfileirar(self, valor):                            # Define Método Enfileirar que recebe um valor\n",
        "    if self.__fila_cheia():                               # SE fila cheia for Verdadeiro Executa o IF\n",
        "      print('A fila está cheia')                          # Monstra na tela o print\n",
        "      return\n",
        "    if self.final == self.capacidade - 1:                 # Se final == (capacidade -1) for True\n",
        "      self.final = -1                                     # Index final é -1\n",
        "    self.final += 1                                       # Se não Soma 1 no Index final\n",
        "    self.valores[self.final] = valor                      # Valores no Index Final recebe valor\n",
        "    self.numero_elementos += 1                            # Soma 1 no número de elementos\n",
        "\n",
        "  def desenfileirar(self):                                # Define Método Desenfileirar\n",
        "    if self.__fila_vazia():                               # IF chama método fila vazia e se for True entra no IF\n",
        "      print('A fila já está vazia')\n",
        "      return\n",
        "\n",
        "    temp = self.valores[self.inicio]                      # temp recebe valores com index Início                 \n",
        "    self.inicio += 1                                      # Incrementa 1 em Início\n",
        "    \n",
        "    if self.inicio == self.capacidade:                    # SE inicio == capacidade retorna True e entra no IF\n",
        "      self.inicio = 0\n",
        "    self.numero_elementos -= 1                            # Subtrai 1 de número de elementos\n",
        "    return temp\n",
        "\n",
        "  def primeiro(self):                                     # Define Método primeiro\n",
        "    if self.__fila_vazia():                               # Se retorna True para método fila vazia\n",
        "      return -1                                           # retorna -1\n",
        "    return self.valores[self.inicio]                      # se não retorna valores com index\n",
        "\n",
        "  def __str__(self):                                     # Método pra fazer o return com print de tudo  \n",
        "    return f\"{self.__class__.__name__}: {', '.join([f'{chave}={valor}' for chave, valor in self.__dict__.items()])}\""
      ],
      "execution_count": 108,
      "outputs": []
    },
    {
      "cell_type": "code",
      "source": [
        "# Criando a Instância Batata Quente\n",
        "batata_quente = FilaCircular(6)"
      ],
      "metadata": {
        "id": "3niHOfXkGZIT"
      },
      "execution_count": 109,
      "outputs": []
    },
    {
      "cell_type": "code",
      "source": [
        "# Preenchendo a Fila Circular\n",
        "batata_quente.enfileirar(1)\n",
        "batata_quente.enfileirar(2)\n",
        "batata_quente.enfileirar(3)\n",
        "batata_quente.enfileirar(4)\n",
        "batata_quente.enfileirar(5)\n",
        "batata_quente.enfileirar(6)"
      ],
      "metadata": {
        "id": "rFFRJHDIUj81"
      },
      "execution_count": 110,
      "outputs": []
    },
    {
      "cell_type": "code",
      "source": [
        "# Chamando o método função para mostrar o primeiro da Fila Circular\n",
        "batata_quente.primeiro()"
      ],
      "metadata": {
        "colab": {
          "base_uri": "https://localhost:8080/"
        },
        "id": "iopiNbDO_EIu",
        "outputId": "cecacc83-4fda-415a-8502-0ff8f826b1fc"
      },
      "execution_count": 111,
      "outputs": [
        {
          "output_type": "execute_result",
          "data": {
            "text/plain": [
              "1"
            ]
          },
          "metadata": {},
          "execution_count": 111
        }
      ]
    },
    {
      "cell_type": "markdown",
      "source": [
        "Repare no print abaixo que Início = 0 e Final = 5"
      ],
      "metadata": {
        "id": "gjQlj0cI9Dsr"
      }
    },
    {
      "cell_type": "code",
      "source": [
        "print(batata_quente.__str__())"
      ],
      "metadata": {
        "colab": {
          "base_uri": "https://localhost:8080/"
        },
        "id": "EwDd1Sd0UsFR",
        "outputId": "8617292f-d5b3-42fc-f961-ffc438b12fec"
      },
      "execution_count": 112,
      "outputs": [
        {
          "output_type": "stream",
          "name": "stdout",
          "text": [
            "FilaCircular: capacidade=6, inicio=0, final=5, numero_elementos=6, valores=[1 2 3 4 5 6]\n"
          ]
        }
      ]
    },
    {
      "cell_type": "code",
      "source": [
        "# Adicionando novo elemento na Fila que irá retornar um print (fila cheia)\n",
        "batata_quente.enfileirar(7)"
      ],
      "metadata": {
        "colab": {
          "base_uri": "https://localhost:8080/"
        },
        "id": "WWZ45OZEWz8G",
        "outputId": "303a5f4b-bd0a-4aa7-8792-1ec7cc3257d7"
      },
      "execution_count": 113,
      "outputs": [
        {
          "output_type": "stream",
          "name": "stdout",
          "text": [
            "A fila está cheia\n"
          ]
        }
      ]
    },
    {
      "cell_type": "code",
      "source": [
        "print('Chamando por ordem FIFO para BATATA QUENTE')"
      ],
      "metadata": {
        "colab": {
          "base_uri": "https://localhost:8080/"
        },
        "id": "qx0JgXJcW8IR",
        "outputId": "4e245e7e-8ccb-49ae-d994-04f6a464a807"
      },
      "execution_count": 114,
      "outputs": [
        {
          "output_type": "stream",
          "name": "stdout",
          "text": [
            "Chamando por ordem FIFO para BATATA QUENTE\n"
          ]
        }
      ]
    },
    {
      "cell_type": "code",
      "source": [
        "# Chamando o método função para mostrar o primeiro da Fila Circular\n",
        "batata_quente.primeiro()"
      ],
      "metadata": {
        "colab": {
          "base_uri": "https://localhost:8080/"
        },
        "id": "iAdpwl-Q_IIh",
        "outputId": "de706985-3223-432f-e444-cb4308c46e37"
      },
      "execution_count": 115,
      "outputs": [
        {
          "output_type": "execute_result",
          "data": {
            "text/plain": [
              "1"
            ]
          },
          "metadata": {},
          "execution_count": 115
        }
      ]
    },
    {
      "cell_type": "code",
      "source": [
        "# Saindo primeiro elemento da Fila\n",
        "batata_quente.desenfileirar()"
      ],
      "metadata": {
        "colab": {
          "base_uri": "https://localhost:8080/"
        },
        "id": "CJqmrimLX5aL",
        "outputId": "7535610c-8c7f-42d2-e33b-d2599c7d81d9"
      },
      "execution_count": 116,
      "outputs": [
        {
          "output_type": "execute_result",
          "data": {
            "text/plain": [
              "1"
            ]
          },
          "metadata": {},
          "execution_count": 116
        }
      ]
    },
    {
      "cell_type": "code",
      "source": [
        "# Chamando o método função para mostrar o primeiro da Fila Circular\n",
        "batata_quente.primeiro()"
      ],
      "metadata": {
        "colab": {
          "base_uri": "https://localhost:8080/"
        },
        "id": "GYEOLgIg_JMl",
        "outputId": "02d20e1c-8c21-452e-c8db-7a8835053846"
      },
      "execution_count": 117,
      "outputs": [
        {
          "output_type": "execute_result",
          "data": {
            "text/plain": [
              "2"
            ]
          },
          "metadata": {},
          "execution_count": 117
        }
      ]
    },
    {
      "cell_type": "markdown",
      "source": [
        "Repare no print abaixo que o valor de Início mudou de 0 para 1"
      ],
      "metadata": {
        "id": "L4-G6nF49gGS"
      }
    },
    {
      "cell_type": "code",
      "source": [
        "print(batata_quente.__str__())"
      ],
      "metadata": {
        "colab": {
          "base_uri": "https://localhost:8080/"
        },
        "id": "RkU15tSRY2aY",
        "outputId": "f9f6aba7-6012-4c26-e690-e1b3f0ea6507"
      },
      "execution_count": 118,
      "outputs": [
        {
          "output_type": "stream",
          "name": "stdout",
          "text": [
            "FilaCircular: capacidade=6, inicio=1, final=5, numero_elementos=5, valores=[1 2 3 4 5 6]\n"
          ]
        }
      ]
    },
    {
      "cell_type": "code",
      "source": [
        "# Adicionando novamente o Elemento que foi removido para a Fila, porém agora será o último e não o primeiro\n",
        "batata_quente.enfileirar(1)"
      ],
      "metadata": {
        "id": "oKooxJ9hZeL2"
      },
      "execution_count": 119,
      "outputs": []
    },
    {
      "cell_type": "code",
      "source": [
        "# Chamando o método função para mostrar o primeiro da Fila Circular\n",
        "batata_quente.primeiro()"
      ],
      "metadata": {
        "colab": {
          "base_uri": "https://localhost:8080/"
        },
        "id": "ThlTpTBa_Lkx",
        "outputId": "28929cb6-797f-41be-9a72-50adaa3280ac"
      },
      "execution_count": 120,
      "outputs": [
        {
          "output_type": "execute_result",
          "data": {
            "text/plain": [
              "2"
            ]
          },
          "metadata": {},
          "execution_count": 120
        }
      ]
    },
    {
      "cell_type": "markdown",
      "source": [
        "Repare agora que no print abaixo o valor de Final mudou de 5 para 0"
      ],
      "metadata": {
        "id": "ZcrN9REH9_LC"
      }
    },
    {
      "cell_type": "code",
      "source": [
        "print(batata_quente.__str__())"
      ],
      "metadata": {
        "colab": {
          "base_uri": "https://localhost:8080/"
        },
        "id": "ViKz_zfv981y",
        "outputId": "a9d6f5e5-a961-437c-8563-610b021fd153"
      },
      "execution_count": 121,
      "outputs": [
        {
          "output_type": "stream",
          "name": "stdout",
          "text": [
            "FilaCircular: capacidade=6, inicio=1, final=0, numero_elementos=6, valores=[1 2 3 4 5 6]\n"
          ]
        }
      ]
    },
    {
      "cell_type": "code",
      "source": [
        "# Saindo primeiro elemento da Fila \n",
        "batata_quente.desenfileirar()"
      ],
      "metadata": {
        "colab": {
          "base_uri": "https://localhost:8080/"
        },
        "id": "88VqvfLX-Q1J",
        "outputId": "f23047ae-cefc-4791-eb67-44b13ae78c43"
      },
      "execution_count": 122,
      "outputs": [
        {
          "output_type": "execute_result",
          "data": {
            "text/plain": [
              "2"
            ]
          },
          "metadata": {},
          "execution_count": 122
        }
      ]
    },
    {
      "cell_type": "code",
      "source": [
        "# Chamando o método função para mostrar o primeiro da Fila Circular\n",
        "batata_quente.primeiro()"
      ],
      "metadata": {
        "colab": {
          "base_uri": "https://localhost:8080/"
        },
        "id": "eKHTj7PL_O8V",
        "outputId": "27deabdb-7bd3-4ac3-ecd7-054f45b85d82"
      },
      "execution_count": 123,
      "outputs": [
        {
          "output_type": "execute_result",
          "data": {
            "text/plain": [
              "3"
            ]
          },
          "metadata": {},
          "execution_count": 123
        }
      ]
    },
    {
      "cell_type": "code",
      "source": [
        "# Enfileirando elemento 2 que havia saído da Fila porém agora é adicionado na última posição\n",
        "batata_quente.enfileirar(2)"
      ],
      "metadata": {
        "id": "TXoXqMN7-evc"
      },
      "execution_count": 124,
      "outputs": []
    },
    {
      "cell_type": "code",
      "source": [
        "# Chamando o método função para mostrar o primeiro da Fila Circular\n",
        "batata_quente.primeiro()"
      ],
      "metadata": {
        "colab": {
          "base_uri": "https://localhost:8080/"
        },
        "id": "LTqtHa3Z_Qfx",
        "outputId": "39e59f51-8caf-4810-d07e-518999a52f13"
      },
      "execution_count": 125,
      "outputs": [
        {
          "output_type": "execute_result",
          "data": {
            "text/plain": [
              "3"
            ]
          },
          "metadata": {},
          "execution_count": 125
        }
      ]
    },
    {
      "cell_type": "code",
      "source": [
        "# Início agora será igual a 2 e Final será igual a 1\n",
        "print(batata_quente.__str__())"
      ],
      "metadata": {
        "colab": {
          "base_uri": "https://localhost:8080/"
        },
        "id": "-HXtBiyY-nQ2",
        "outputId": "dd09469b-1dc1-485c-a6a2-36f10d3edbe7"
      },
      "execution_count": 126,
      "outputs": [
        {
          "output_type": "stream",
          "name": "stdout",
          "text": [
            "FilaCircular: capacidade=6, inicio=2, final=1, numero_elementos=6, valores=[1 2 3 4 5 6]\n"
          ]
        }
      ]
    },
    {
      "cell_type": "code",
      "source": [
        "batata_quente.primeiro()"
      ],
      "metadata": {
        "colab": {
          "base_uri": "https://localhost:8080/"
        },
        "id": "vaLN_Wz7-9fe",
        "outputId": "61d81ac1-5239-4e17-d5e0-18ce23a4ca03"
      },
      "execution_count": 127,
      "outputs": [
        {
          "output_type": "execute_result",
          "data": {
            "text/plain": [
              "3"
            ]
          },
          "metadata": {},
          "execution_count": 127
        }
      ]
    },
    {
      "cell_type": "code",
      "source": [
        "# Seguindo a lógica tirando primeiro elemento e adicionando ele por último\n",
        "batata_quente.desenfileirar()\n",
        "batata_quente.enfileirar(3)\n",
        "batata_quente.desenfileirar()\n",
        "batata_quente.enfileirar(4)\n",
        "batata_quente.desenfileirar()\n",
        "batata_quente.enfileirar(5)"
      ],
      "metadata": {
        "id": "5-8eeuHjAYuz"
      },
      "execution_count": 128,
      "outputs": []
    },
    {
      "cell_type": "code",
      "source": [
        "# Repare que agora o primeiro elemento da Fila é o Último elemento \n",
        "# quando a fila foi construída pela primeira vez\n",
        "batata_quente.primeiro()"
      ],
      "metadata": {
        "colab": {
          "base_uri": "https://localhost:8080/"
        },
        "id": "qKkKuaNYAh_R",
        "outputId": "1907a4b0-27fd-4ccc-b6d5-b3f4756be420"
      },
      "execution_count": 129,
      "outputs": [
        {
          "output_type": "execute_result",
          "data": {
            "text/plain": [
              "6"
            ]
          },
          "metadata": {},
          "execution_count": 129
        }
      ]
    },
    {
      "cell_type": "code",
      "source": [
        "# Confirmando Index de Início é 5 que corresponde ao valor adicionado 6\n",
        "# Index do Final é 4 que corresponde ao valor adicionado por último que é 5: batata_quente.enfileirar(5)\n",
        "print(batata_quente.__str__())"
      ],
      "metadata": {
        "colab": {
          "base_uri": "https://localhost:8080/"
        },
        "id": "KE-CvWq_BAlq",
        "outputId": "ba74e099-7ec4-4ac7-fc77-ae650b3ba0d9"
      },
      "execution_count": 130,
      "outputs": [
        {
          "output_type": "stream",
          "name": "stdout",
          "text": [
            "FilaCircular: capacidade=6, inicio=5, final=4, numero_elementos=6, valores=[1 2 3 4 5 6]\n"
          ]
        }
      ]
    }
  ]
}